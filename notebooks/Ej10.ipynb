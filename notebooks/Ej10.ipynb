{
 "cells": [
  {
   "cell_type": "markdown",
   "id": "8df29493",
   "metadata": {},
   "source": [
    "## Resolución del Ejercicio 10: Simulación de partidas y ranking en shooter online\n",
    "En esta actividad desarrollaremos una simulación de partidas de un videojuego de disparos (shooter) en línea. A partir de un conjunto de rondas predefinidas, se calculará un **ranking de jugadores** basado en su desempeño individual utilizando un sistema de puntaje específico:\n",
    "\n",
    ". **Kill** (**eliminar** a un oponente): +3 puntos\n",
    "\n",
    ". **Asistencia** (**colaborar en la eliminación**): +1 punto\n",
    "\n",
    ". **Muerte**: −1 punto\n",
    "\n",
    "Durante la simulación, cada ronda será analizada para:\n",
    "\n",
    "1. **Actualizar los puntajes y estadísticas** de cada jugador (kills, asistencias, muertes).\n",
    "\n",
    "2. Determinar el MVP (Mejor Jugador de la Ronda), es decir, el jugador con mayor puntaje individual en esa ronda.\n",
    "\n",
    "3. Mostrar el **ranking parcial** tras cada ronda, para visualizar la evolución de los jugadores.\n",
    "\n",
    "Al finalizar todas las rondas, se generará una **tabla de resultados finales** ordenada de forma descendente según el puntaje total de cada jugador. Esta tabla incluirá:\n",
    "\n",
    ". Total de kills\n",
    "\n",
    ". Total de asistencias\n",
    "\n",
    ". Total de muertes\n",
    "\n",
    ". Número de veces que fue MVP\n",
    "\n",
    ". Puntaje total\n",
    "\n"
   ]
  },
  {
   "cell_type": "markdown",
   "id": "e328ad27",
   "metadata": {},
   "source": [
    "## Importación de módulos"
   ]
  },
  {
   "cell_type": "code",
   "execution_count": 2,
   "id": "79d20f48",
   "metadata": {},
   "outputs": [
    {
     "name": "stdout",
     "output_type": "stream",
     "text": [
      "Directorio actual: c:\\Users\\Usuario\\Documents\\CDO 2025\\Taller de Lenguaje\\Práctica\\Practica 2\\tp2_ejercicio10\\notebooks\n",
      "Archivos en el directorio:\n",
      " - Ej10.ipynb\n"
     ]
    }
   ],
   "source": [
    "import os\n",
    "import sys\n",
    "\n",
    "# Verificar desde dónde se ejecuta el código y comprobar que los archivos que queremos usar\n",
    "# están en el directorio correcto. Esto es útil para asegurarte de que estamos\n",
    "# ejecutando el script desde el directorio correcto y que los archivos necesarios están ahí.\n",
    "print(\"Directorio actual:\", os.getcwd())\n",
    "print(\"Archivos en el directorio:\")\n",
    "for file in os.listdir():\n",
    "    print(\" -\", file)\n",
    "\n",
    "# Agregar a Python la ruta completa de la carpeta src que está en el \n",
    "# directorio padre del actual, para poder importar módulos que estén ahí.\n",
    "\n",
    "sys.path.append(os.path.abspath(os.path.join('..', 'src')))"
   ]
  },
  {
   "cell_type": "code",
   "execution_count": 3,
   "id": "8016b25b",
   "metadata": {},
   "outputs": [],
   "source": [
    "# Importar las funciones necesarias desde el módulo funciones.py\n",
    "# asumiendo que funciones.py está en la carpeta src y que contiene \n",
    "# las funciones necesarias para la simulación.\n",
    "from funciones import ejecutar_simulacion, mostrar_ranking_global"
   ]
  },
  {
   "cell_type": "markdown",
   "id": "8ba7f3ea",
   "metadata": {},
   "source": [
    "### Cargamos las 5 rondas que nos dieron"
   ]
  },
  {
   "cell_type": "code",
   "execution_count": 4,
   "id": "9d616bea",
   "metadata": {},
   "outputs": [],
   "source": [
    "ROUNDS = [\n",
    "    {\n",
    "        'Shadow': {'kills': 2, 'assists': 1, 'deaths': True},\n",
    "        'Blaze': {'kills': 1, 'assists': 0, 'deaths': False},\n",
    "        'Viper': {'kills': 1, 'assists': 2, 'deaths': True},\n",
    "        'Frost': {'kills': 0, 'assists': 1, 'deaths': False},\n",
    "        'Reaper': {'kills': 1, 'assists': 1, 'deaths': False}\n",
    "    },\n",
    "    {\n",
    "        'Shadow': {'kills': 0, 'assists': 2, 'deaths': False},\n",
    "        'Blaze': {'kills': 2, 'assists': 0, 'deaths': True},\n",
    "        'Viper': {'kills': 1, 'assists': 1, 'deaths': False},\n",
    "        'Frost': {'kills': 2, 'assists': 1, 'deaths': True},\n",
    "        'Reaper': {'kills': 0, 'assists': 1, 'deaths': False}\n",
    "    },\n",
    "    {\n",
    "        'Shadow': {'kills': 1, 'assists': 0, 'deaths': False},\n",
    "        'Blaze': {'kills': 2, 'assists': 2, 'deaths': True},\n",
    "        'Viper': {'kills': 1, 'assists': 1, 'deaths': True},\n",
    "        'Frost': {'kills': 0, 'assists': 1, 'deaths': False},\n",
    "        'Reaper': {'kills': 1, 'assists': 1, 'deaths': False}\n",
    "    },\n",
    "    {\n",
    "        'Shadow': {'kills': 2, 'assists': 1, 'deaths': False},\n",
    "        'Blaze': {'kills': 1, 'assists': 0, 'deaths': True},\n",
    "        'Viper': {'kills': 0, 'assists': 2, 'deaths': False},\n",
    "        'Frost': {'kills': 1, 'assists': 1, 'deaths': True},\n",
    "        'Reaper': {'kills': 1, 'assists': 1, 'deaths': False}\n",
    "    },\n",
    "    {\n",
    "        'Shadow': {'kills': 1, 'assists': 2, 'deaths': True},\n",
    "        'Blaze': {'kills': 0, 'assists': 1, 'deaths': False},\n",
    "        'Viper': {'kills': 2, 'assists': 0, 'deaths': True},\n",
    "        'Frost': {'kills': 1, 'assists': 1, 'deaths': False},\n",
    "        'Reaper': {'kills': 1, 'assists': 1, 'deaths': True}\n",
    "    }\n",
    "]"
   ]
  },
  {
   "cell_type": "markdown",
   "id": "70ec0ef5",
   "metadata": {},
   "source": [
    "### 🔄 Función `ejecutar_simulacion(rounds)`\n",
    "\n",
    "Esta función se encarga de simular una serie de partidas (rondas) de un juego de disparos.\n",
    "\n",
    "#### 📋 ¿Qué hace?\n",
    "\n",
    "- Calcula el **puntaje de cada jugador** en cada ronda, según:\n",
    "  - **Kill**: +3 puntos\n",
    "  - **Asistencia**: +1 punto\n",
    "  - **Muerte**: −1 punto\n",
    "- Muestra el **ranking de cada ronda**, ordenado por puntaje.\n",
    "- Identifica al **MVP de la ronda** (jugador con más puntos).\n",
    "- Acumula las estadísticas generales de cada jugador:\n",
    "  - Total de kills, asistencias, muertes, MVPs y puntos.\n",
    "- Devuelve un diccionario con las estadísticas globales, que luego se usa para generar el ranking final.\n",
    "\n",
    "> 💡 Esta función imprime los resultados de cada ronda a medida que se ejecuta la simulación.\n"
   ]
  },
  {
   "cell_type": "code",
   "execution_count": 5,
   "id": "1c253731",
   "metadata": {},
   "outputs": [
    {
     "name": "stdout",
     "output_type": "stream",
     "text": [
      "=== INICIANDO SIMULACIÓN ===\n",
      "\n",
      "Ranking ronda 1\n",
      "MVP de la ronda: Shadow\n",
      "Jugador    Kills  Asistencias Muertes  Puntos\n",
      "--------------------------------------------------\n",
      "Shadow     2      1           1        6     \n",
      "Viper      1      2           1        4     \n",
      "Reaper     1      1           0        4     \n",
      "Blaze      1      0           0        3     \n",
      "Frost      0      1           0        1     \n",
      "\n",
      "Ranking ronda 2\n",
      "MVP de la ronda: Frost\n",
      "Jugador    Kills  Asistencias Muertes  Puntos\n",
      "--------------------------------------------------\n",
      "Frost      2      1           1        6     \n",
      "Blaze      2      0           1        5     \n",
      "Viper      1      1           0        4     \n",
      "Shadow     0      2           0        2     \n",
      "Reaper     0      1           0        1     \n",
      "\n",
      "Ranking ronda 3\n",
      "MVP de la ronda: Blaze\n",
      "Jugador    Kills  Asistencias Muertes  Puntos\n",
      "--------------------------------------------------\n",
      "Blaze      2      2           1        7     \n",
      "Reaper     1      1           0        4     \n",
      "Viper      1      1           1        3     \n",
      "Shadow     1      0           0        3     \n",
      "Frost      0      1           0        1     \n",
      "\n",
      "Ranking ronda 4\n",
      "MVP de la ronda: Shadow\n",
      "Jugador    Kills  Asistencias Muertes  Puntos\n",
      "--------------------------------------------------\n",
      "Shadow     2      1           0        7     \n",
      "Reaper     1      1           0        4     \n",
      "Frost      1      1           1        3     \n",
      "Blaze      1      0           1        2     \n",
      "Viper      0      2           0        2     \n",
      "\n",
      "Ranking ronda 5\n",
      "MVP de la ronda: Viper\n",
      "Jugador    Kills  Asistencias Muertes  Puntos\n",
      "--------------------------------------------------\n",
      "Viper      2      0           1        5     \n",
      "Shadow     1      2           1        4     \n",
      "Frost      1      1           0        4     \n",
      "Reaper     1      1           1        3     \n",
      "Blaze      0      1           0        1     \n"
     ]
    }
   ],
   "source": [
    "\n",
    "print(\"=== INICIANDO SIMULACIÓN ===\")\n",
    "stats_finales = ejecutar_simulacion(ROUNDS)"
   ]
  },
  {
   "cell_type": "markdown",
   "id": "6e37d028",
   "metadata": {},
   "source": [
    "### 🏆 Función `mostrar_ranking_global(totales)`\n",
    "\n",
    "Esta función muestra el **ranking final** de todos los jugadores al terminar la simulación de las rondas.\n",
    "\n",
    "#### 📊 ¿Qué hace?\n",
    "\n",
    "- Recibe como parámetro un diccionario con las estadísticas acumuladas de cada jugador.\n",
    "- Ordena a los jugadores por:\n",
    "  1. Mayor cantidad de puntos.\n",
    "  2. Mayor cantidad de kills.\n",
    "  3. Mayor cantidad de asistencias.\n",
    "  4. Menor cantidad de muertes.\n",
    "  5. Nombre (orden alfabético).\n",
    "- Imprime una tabla con el resumen final, que incluye:\n",
    "  - Nombre del jugador\n",
    "  - Kills totales\n",
    "  - Asistencias totales\n",
    "  - Muertes totales\n",
    "  - Cantidad de MVPs\n",
    "  - Puntos acumulados"
   ]
  },
  {
   "cell_type": "code",
   "execution_count": 6,
   "id": "f35e1a45",
   "metadata": {},
   "outputs": [
    {
     "name": "stdout",
     "output_type": "stream",
     "text": [
      "=== SIMULACIÓN FINALIZADA ===\n",
      "\n",
      "\n",
      "Ranking final:\n",
      "Jugador    Kills  Asistencias Muertes  MVPs   Puntos\n",
      "------------------------------------------------------------\n",
      "Shadow     6      6           2        2      22    \n",
      "Blaze      6      3           3        1      18    \n",
      "Viper      5      6           3        1      18    \n",
      "Reaper     4      5           1        0      16    \n",
      "Frost      4      5           2        1      15    \n"
     ]
    }
   ],
   "source": [
    "print(\"=== SIMULACIÓN FINALIZADA ===\\n\")\n",
    "mostrar_ranking_global(stats_finales)"
   ]
  }
 ],
 "metadata": {
  "kernelspec": {
   "display_name": "venv",
   "language": "python",
   "name": "python3"
  },
  "language_info": {
   "codemirror_mode": {
    "name": "ipython",
    "version": 3
   },
   "file_extension": ".py",
   "mimetype": "text/x-python",
   "name": "python",
   "nbconvert_exporter": "python",
   "pygments_lexer": "ipython3",
   "version": "3.12.9"
  }
 },
 "nbformat": 4,
 "nbformat_minor": 5
}

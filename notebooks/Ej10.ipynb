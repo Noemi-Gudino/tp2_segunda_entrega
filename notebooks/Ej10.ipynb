{
 "cells": [
  {
   "cell_type": "markdown",
   "id": "8df29493",
   "metadata": {},
   "source": [
    "# Resolución del Ejercicio 10: Simulación de partidas y ranking en shooter online\n",
    "En esta actividad desarrollaremos una simulación de partidas de un videojuego de disparos (shooter) en línea. A partir de un conjunto de rondas predefinidas, se calculará un **ranking de jugadores** basado en su desempeño individual utilizando un sistema de puntaje específico:\n",
    "\n",
    ". **Kill** (**eliminar** a un oponente): +3 puntos\n",
    "\n",
    ". **Asistencia** (**colaborar en la eliminación**): +1 punto\n",
    "\n",
    ". **Muerte**: −1 punto\n",
    "\n",
    "Durante la simulación, cada ronda será analizada para:\n",
    "\n",
    "1. **Actualizar los puntajes y estadísticas** de cada jugador (kills, asistencias, muertes).\n",
    "\n",
    "2. Determinar el MVP (Mejor Jugador de la Ronda), es decir, el jugador con mayor puntaje individual en esa ronda.\n",
    "\n",
    "3. Mostrar el **ranking parcial** tras cada ronda, para visualizar la evolución de los jugadores.\n",
    "\n",
    "Al finalizar todas las rondas, se generará una **tabla de resultados finales** ordenada de forma descendente según el puntaje total de cada jugador. Esta tabla incluirá:\n",
    "\n",
    ". Total de kills\n",
    "\n",
    ". Total de asistencias\n",
    "\n",
    ". Total de muertes\n",
    "\n",
    ". Número de veces que fue MVP\n",
    "\n",
    ". Puntaje total\n",
    "\n"
   ]
  },
  {
   "cell_type": "code",
   "execution_count": null,
   "id": "79d20f48",
   "metadata": {
    "vscode": {
     "languageId": "plaintext"
    }
   },
   "outputs": [],
   "source": [
    "import os\n",
    "import sys\n",
    "\n",
    "print(\"Directorio actual:\", os.getcwd())\n",
    "print(\"Archivos en el directorio:\")\n",
    "for file in os.listdir():\n",
    "    print(\" -\", file)\n",
    "\n",
    "# Añadimos el directorio src al sys.path\n",
    "sys.path.append(os.path.abspath(os.path.join('..', 'src')))"
   ]
  }
 ],
 "metadata": {
  "language_info": {
   "name": "python"
  }
 },
 "nbformat": 4,
 "nbformat_minor": 5
}
